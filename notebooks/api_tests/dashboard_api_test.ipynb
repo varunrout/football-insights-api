{
 "cells": [
  {
   "cell_type": "markdown",
   "id": "659c173f",
   "metadata": {},
   "source": [
    "# Stepwise Implementation Plan: Dashboard Summary API Test (Pure Functionality)\n",
    "This notebook demonstrates the step-by-step process of the dashboard summary pipeline, from request construction to response handling, using only pure Python functions (no actual API calls). Each cell represents a logical step in the process."
   ]
  },
  {
   "cell_type": "code",
   "execution_count": 47,
   "id": "ffab5a0c",
   "metadata": {},
   "outputs": [],
   "source": [
    "# Step 1: Import Required Libraries and Utilities\n",
    "import sys\n",
    "from pathlib import Path\n",
    "# ensure that the project root is on PYTHONPATH so that `app` can be imported\n",
    "sys.path.insert(0, str(Path.cwd().parents[1]))\n",
    "\n",
    "import pandas as pd\n",
    "import numpy as np\n",
    "from app.util.football_data_manager import FootballDataManager\n",
    "from app.services.metrics_engine import MetricsEngine\n",
    "import json"
   ]
  },
  {
   "cell_type": "code",
   "execution_count": 48,
   "id": "833c50ae",
   "metadata": {},
   "outputs": [],
   "source": [
    "# Step 2: Set Parameters for the Dashboard Summary\n",
    "competition_id = 9\n",
    "season_id = 281\n",
    "team_id = 904"
   ]
  },
  {
   "cell_type": "code",
   "execution_count": 49,
   "id": "edfdc736",
   "metadata": {},
   "outputs": [
    {
     "name": "stderr",
     "output_type": "stream",
     "text": [
      "/home/codespace/.local/lib/python3.12/site-packages/statsbombpy/api_client.py:21: NoAuthWarning: credentials were not supplied. open data access only\n",
      "  warnings.warn(\n"
     ]
    }
   ],
   "source": [
    "# Step 3: Load Data Using FootballDataManager\n",
    "fdm = FootballDataManager()\n",
    "matches_df = fdm.get_matches_for_team(competition_id, season_id, team_id)\n",
    "if matches_df is None or matches_df.empty:\n",
    "    raise ValueError(\"No matches found for team in this competition/season.\")"
   ]
  },
  {
   "cell_type": "code",
   "execution_count": 50,
   "id": "22622b06",
   "metadata": {},
   "outputs": [
    {
     "name": "stdout",
     "output_type": "stream",
     "text": [
      "matches_df shape: (34, 44)\n"
     ]
    },
    {
     "data": {
      "application/vnd.microsoft.datawrangler.viewer.v0+json": {
       "columns": [
        {
         "name": "index",
         "rawType": "int64",
         "type": "integer"
        },
        {
         "name": "match_id",
         "rawType": "int64",
         "type": "integer"
        },
        {
         "name": "match_date",
         "rawType": "object",
         "type": "string"
        },
        {
         "name": "kick_off",
         "rawType": "object",
         "type": "string"
        },
        {
         "name": "competition_id",
         "rawType": "int64",
         "type": "integer"
        },
        {
         "name": "competition_name",
         "rawType": "object",
         "type": "string"
        },
        {
         "name": "country_name",
         "rawType": "object",
         "type": "string"
        },
        {
         "name": "season_id",
         "rawType": "int64",
         "type": "integer"
        },
        {
         "name": "season_name",
         "rawType": "object",
         "type": "string"
        },
        {
         "name": "home_team_id",
         "rawType": "int64",
         "type": "integer"
        },
        {
         "name": "home_team_name",
         "rawType": "object",
         "type": "string"
        },
        {
         "name": "home_team_gender",
         "rawType": "object",
         "type": "string"
        },
        {
         "name": "home_team_group",
         "rawType": "object",
         "type": "unknown"
        },
        {
         "name": "home_team_country_id",
         "rawType": "int64",
         "type": "integer"
        },
        {
         "name": "home_team_country_name",
         "rawType": "object",
         "type": "string"
        },
        {
         "name": "home_manager_id",
         "rawType": "int64",
         "type": "integer"
        },
        {
         "name": "home_manager_name",
         "rawType": "object",
         "type": "string"
        },
        {
         "name": "away_team_id",
         "rawType": "int64",
         "type": "integer"
        },
        {
         "name": "away_team_name",
         "rawType": "object",
         "type": "string"
        },
        {
         "name": "away_team_gender",
         "rawType": "object",
         "type": "string"
        },
        {
         "name": "away_team_group",
         "rawType": "object",
         "type": "unknown"
        },
        {
         "name": "away_team_country_id",
         "rawType": "int64",
         "type": "integer"
        },
        {
         "name": "away_team_country_name",
         "rawType": "object",
         "type": "string"
        },
        {
         "name": "away_manager_id",
         "rawType": "int64",
         "type": "integer"
        },
        {
         "name": "away_manager_name",
         "rawType": "object",
         "type": "string"
        },
        {
         "name": "home_score",
         "rawType": "int64",
         "type": "integer"
        },
        {
         "name": "away_score",
         "rawType": "int64",
         "type": "integer"
        },
        {
         "name": "match_status",
         "rawType": "object",
         "type": "string"
        },
        {
         "name": "match_status_360",
         "rawType": "object",
         "type": "string"
        },
        {
         "name": "last_updated",
         "rawType": "object",
         "type": "string"
        },
        {
         "name": "last_updated_360",
         "rawType": "object",
         "type": "string"
        },
        {
         "name": "data_version",
         "rawType": "object",
         "type": "string"
        },
        {
         "name": "shot_fidelity_version",
         "rawType": "object",
         "type": "string"
        },
        {
         "name": "xy_fidelity_version",
         "rawType": "object",
         "type": "string"
        },
        {
         "name": "match_week",
         "rawType": "int64",
         "type": "integer"
        },
        {
         "name": "competition_stage_id",
         "rawType": "int64",
         "type": "integer"
        },
        {
         "name": "competition_stage_name",
         "rawType": "object",
         "type": "string"
        },
        {
         "name": "stadium_id",
         "rawType": "int64",
         "type": "integer"
        },
        {
         "name": "stadium_name",
         "rawType": "object",
         "type": "string"
        },
        {
         "name": "stadium_country_id",
         "rawType": "int64",
         "type": "integer"
        },
        {
         "name": "stadium_country_name",
         "rawType": "object",
         "type": "string"
        },
        {
         "name": "referee_id",
         "rawType": "int64",
         "type": "integer"
        },
        {
         "name": "referee_name",
         "rawType": "object",
         "type": "string"
        },
        {
         "name": "referee_country_id",
         "rawType": "int64",
         "type": "integer"
        },
        {
         "name": "referee_country_name",
         "rawType": "object",
         "type": "string"
        }
       ],
       "ref": "e8cb201b-8ea9-4feb-adf7-d18319a3aa82",
       "rows": [
        [
         "0",
         "3895302",
         "2024-04-14",
         "17:30:00.000",
         "9",
         "1. Bundesliga",
         "Germany",
         "281",
         "2023/2024",
         "904",
         "Bayer Leverkusen",
         "male",
         null,
         "85",
         "Germany",
         "1000310",
         "Xabier Alonso Olano",
         "176",
         "Werder Bremen",
         "male",
         null,
         "85",
         "Germany",
         "4057",
         "Ole Werner",
         "5",
         "0",
         "available",
         "available",
         "2024-05-10T16:57:53.017895",
         "2024-05-10T17:03:59.613154",
         "1.1.0",
         "2",
         "2",
         "29",
         "1",
         "Regular Season",
         "377",
         "BayArena",
         "85",
         "Germany",
         "234",
         "Harm Osmers",
         "85",
         "Germany"
        ],
        [
         "1",
         "3895292",
         "2024-04-06",
         "15:30:00.000",
         "9",
         "1. Bundesliga",
         "Germany",
         "281",
         "2023/2024",
         "190",
         "Union Berlin",
         "male",
         null,
         "85",
         "Germany",
         "176",
         "Nenad Bjelica",
         "904",
         "Bayer Leverkusen",
         "male",
         null,
         "85",
         "Germany",
         "1000310",
         "Xabier Alonso Olano",
         "0",
         "1",
         "available",
         "available",
         "2024-05-12T21:04:50.061716",
         "2024-05-12T21:08:37.897296",
         "1.1.0",
         "2",
         "2",
         "28",
         "1",
         "Regular Season",
         "560",
         "Stadion An der Alten Försterei",
         "85",
         "Germany",
         "235",
         "Benjamin Brand",
         "85",
         "Germany"
        ],
        [
         "2",
         "3895333",
         "2024-05-05",
         "18:30:00.000",
         "9",
         "1. Bundesliga",
         "Germany",
         "281",
         "2023/2024",
         "184",
         "Eintracht Frankfurt",
         "male",
         null,
         "85",
         "Germany",
         "704",
         "Dino Toppmöller",
         "904",
         "Bayer Leverkusen",
         "male",
         null,
         "85",
         "Germany",
         "1000310",
         "Xabier Alonso Olano",
         "1",
         "5",
         "available",
         "available",
         "2024-05-14T16:23:06.325967",
         "2024-05-14T16:32:13.483516",
         "1.1.0",
         "2",
         "2",
         "32",
         "1",
         "Regular Season",
         "116458",
         "Deutsche Bank Park",
         "85",
         "Germany",
         "237",
         "Christian Dingert",
         "85",
         "Germany"
        ],
        [
         "3",
         "3895340",
         "2024-05-12",
         "20:30:00.000",
         "9",
         "1. Bundesliga",
         "Germany",
         "281",
         "2023/2024",
         "868",
         "Bochum",
         "male",
         null,
         "85",
         "Germany",
         "4849",
         "Heiko Butscher",
         "904",
         "Bayer Leverkusen",
         "male",
         null,
         "85",
         "Germany",
         "1000310",
         "Xabier Alonso Olano",
         "0",
         "5",
         "available",
         "available",
         "2024-05-14T10:09:25.875345",
         "2024-05-14T16:46:08.459843",
         "1.1.0",
         "2",
         "2",
         "33",
         "1",
         "Regular Season",
         "550",
         "Vonovia Ruhrstadion",
         "85",
         "Germany",
         "235",
         "Benjamin Brand",
         "85",
         "Germany"
        ],
        [
         "4",
         "3895348",
         "2024-05-18",
         "16:30:00.000",
         "9",
         "1. Bundesliga",
         "Germany",
         "281",
         "2023/2024",
         "904",
         "Bayer Leverkusen",
         "male",
         null,
         "85",
         "Germany",
         "1000310",
         "Xabier Alonso Olano",
         "172",
         "Augsburg",
         "male",
         null,
         "85",
         "Germany",
         "13",
         "Jess Christian Thorup",
         "2",
         "1",
         "available",
         "available",
         "2024-05-20T10:11:27.857660",
         "2024-05-20T10:33:09.140760",
         "1.1.0",
         "2",
         "2",
         "34",
         "1",
         "Regular Season",
         "377",
         "BayArena",
         "85",
         "Germany",
         "837",
         "Matthias Jöllenbeck",
         "85",
         "Germany"
        ]
       ],
       "shape": {
        "columns": 44,
        "rows": 5
       }
      },
      "text/html": [
       "<div>\n",
       "<style scoped>\n",
       "    .dataframe tbody tr th:only-of-type {\n",
       "        vertical-align: middle;\n",
       "    }\n",
       "\n",
       "    .dataframe tbody tr th {\n",
       "        vertical-align: top;\n",
       "    }\n",
       "\n",
       "    .dataframe thead th {\n",
       "        text-align: right;\n",
       "    }\n",
       "</style>\n",
       "<table border=\"1\" class=\"dataframe\">\n",
       "  <thead>\n",
       "    <tr style=\"text-align: right;\">\n",
       "      <th></th>\n",
       "      <th>match_id</th>\n",
       "      <th>match_date</th>\n",
       "      <th>kick_off</th>\n",
       "      <th>competition_id</th>\n",
       "      <th>competition_name</th>\n",
       "      <th>country_name</th>\n",
       "      <th>season_id</th>\n",
       "      <th>season_name</th>\n",
       "      <th>home_team_id</th>\n",
       "      <th>home_team_name</th>\n",
       "      <th>...</th>\n",
       "      <th>competition_stage_id</th>\n",
       "      <th>competition_stage_name</th>\n",
       "      <th>stadium_id</th>\n",
       "      <th>stadium_name</th>\n",
       "      <th>stadium_country_id</th>\n",
       "      <th>stadium_country_name</th>\n",
       "      <th>referee_id</th>\n",
       "      <th>referee_name</th>\n",
       "      <th>referee_country_id</th>\n",
       "      <th>referee_country_name</th>\n",
       "    </tr>\n",
       "  </thead>\n",
       "  <tbody>\n",
       "    <tr>\n",
       "      <th>0</th>\n",
       "      <td>3895302</td>\n",
       "      <td>2024-04-14</td>\n",
       "      <td>17:30:00.000</td>\n",
       "      <td>9</td>\n",
       "      <td>1. Bundesliga</td>\n",
       "      <td>Germany</td>\n",
       "      <td>281</td>\n",
       "      <td>2023/2024</td>\n",
       "      <td>904</td>\n",
       "      <td>Bayer Leverkusen</td>\n",
       "      <td>...</td>\n",
       "      <td>1</td>\n",
       "      <td>Regular Season</td>\n",
       "      <td>377</td>\n",
       "      <td>BayArena</td>\n",
       "      <td>85</td>\n",
       "      <td>Germany</td>\n",
       "      <td>234</td>\n",
       "      <td>Harm Osmers</td>\n",
       "      <td>85</td>\n",
       "      <td>Germany</td>\n",
       "    </tr>\n",
       "    <tr>\n",
       "      <th>1</th>\n",
       "      <td>3895292</td>\n",
       "      <td>2024-04-06</td>\n",
       "      <td>15:30:00.000</td>\n",
       "      <td>9</td>\n",
       "      <td>1. Bundesliga</td>\n",
       "      <td>Germany</td>\n",
       "      <td>281</td>\n",
       "      <td>2023/2024</td>\n",
       "      <td>190</td>\n",
       "      <td>Union Berlin</td>\n",
       "      <td>...</td>\n",
       "      <td>1</td>\n",
       "      <td>Regular Season</td>\n",
       "      <td>560</td>\n",
       "      <td>Stadion An der Alten Försterei</td>\n",
       "      <td>85</td>\n",
       "      <td>Germany</td>\n",
       "      <td>235</td>\n",
       "      <td>Benjamin Brand</td>\n",
       "      <td>85</td>\n",
       "      <td>Germany</td>\n",
       "    </tr>\n",
       "    <tr>\n",
       "      <th>2</th>\n",
       "      <td>3895333</td>\n",
       "      <td>2024-05-05</td>\n",
       "      <td>18:30:00.000</td>\n",
       "      <td>9</td>\n",
       "      <td>1. Bundesliga</td>\n",
       "      <td>Germany</td>\n",
       "      <td>281</td>\n",
       "      <td>2023/2024</td>\n",
       "      <td>184</td>\n",
       "      <td>Eintracht Frankfurt</td>\n",
       "      <td>...</td>\n",
       "      <td>1</td>\n",
       "      <td>Regular Season</td>\n",
       "      <td>116458</td>\n",
       "      <td>Deutsche Bank Park</td>\n",
       "      <td>85</td>\n",
       "      <td>Germany</td>\n",
       "      <td>237</td>\n",
       "      <td>Christian Dingert</td>\n",
       "      <td>85</td>\n",
       "      <td>Germany</td>\n",
       "    </tr>\n",
       "    <tr>\n",
       "      <th>3</th>\n",
       "      <td>3895340</td>\n",
       "      <td>2024-05-12</td>\n",
       "      <td>20:30:00.000</td>\n",
       "      <td>9</td>\n",
       "      <td>1. Bundesliga</td>\n",
       "      <td>Germany</td>\n",
       "      <td>281</td>\n",
       "      <td>2023/2024</td>\n",
       "      <td>868</td>\n",
       "      <td>Bochum</td>\n",
       "      <td>...</td>\n",
       "      <td>1</td>\n",
       "      <td>Regular Season</td>\n",
       "      <td>550</td>\n",
       "      <td>Vonovia Ruhrstadion</td>\n",
       "      <td>85</td>\n",
       "      <td>Germany</td>\n",
       "      <td>235</td>\n",
       "      <td>Benjamin Brand</td>\n",
       "      <td>85</td>\n",
       "      <td>Germany</td>\n",
       "    </tr>\n",
       "    <tr>\n",
       "      <th>4</th>\n",
       "      <td>3895348</td>\n",
       "      <td>2024-05-18</td>\n",
       "      <td>16:30:00.000</td>\n",
       "      <td>9</td>\n",
       "      <td>1. Bundesliga</td>\n",
       "      <td>Germany</td>\n",
       "      <td>281</td>\n",
       "      <td>2023/2024</td>\n",
       "      <td>904</td>\n",
       "      <td>Bayer Leverkusen</td>\n",
       "      <td>...</td>\n",
       "      <td>1</td>\n",
       "      <td>Regular Season</td>\n",
       "      <td>377</td>\n",
       "      <td>BayArena</td>\n",
       "      <td>85</td>\n",
       "      <td>Germany</td>\n",
       "      <td>837</td>\n",
       "      <td>Matthias Jöllenbeck</td>\n",
       "      <td>85</td>\n",
       "      <td>Germany</td>\n",
       "    </tr>\n",
       "  </tbody>\n",
       "</table>\n",
       "<p>5 rows × 44 columns</p>\n",
       "</div>"
      ],
      "text/plain": [
       "   match_id  match_date      kick_off  competition_id competition_name  \\\n",
       "0   3895302  2024-04-14  17:30:00.000               9    1. Bundesliga   \n",
       "1   3895292  2024-04-06  15:30:00.000               9    1. Bundesliga   \n",
       "2   3895333  2024-05-05  18:30:00.000               9    1. Bundesliga   \n",
       "3   3895340  2024-05-12  20:30:00.000               9    1. Bundesliga   \n",
       "4   3895348  2024-05-18  16:30:00.000               9    1. Bundesliga   \n",
       "\n",
       "  country_name  season_id season_name  home_team_id       home_team_name  ...  \\\n",
       "0      Germany        281   2023/2024           904     Bayer Leverkusen  ...   \n",
       "1      Germany        281   2023/2024           190         Union Berlin  ...   \n",
       "2      Germany        281   2023/2024           184  Eintracht Frankfurt  ...   \n",
       "3      Germany        281   2023/2024           868               Bochum  ...   \n",
       "4      Germany        281   2023/2024           904     Bayer Leverkusen  ...   \n",
       "\n",
       "  competition_stage_id competition_stage_name  stadium_id  \\\n",
       "0                    1         Regular Season         377   \n",
       "1                    1         Regular Season         560   \n",
       "2                    1         Regular Season      116458   \n",
       "3                    1         Regular Season         550   \n",
       "4                    1         Regular Season         377   \n",
       "\n",
       "                     stadium_name  stadium_country_id stadium_country_name  \\\n",
       "0                        BayArena                  85              Germany   \n",
       "1  Stadion An der Alten Försterei                  85              Germany   \n",
       "2              Deutsche Bank Park                  85              Germany   \n",
       "3             Vonovia Ruhrstadion                  85              Germany   \n",
       "4                        BayArena                  85              Germany   \n",
       "\n",
       "   referee_id         referee_name referee_country_id referee_country_name  \n",
       "0         234          Harm Osmers                 85              Germany  \n",
       "1         235       Benjamin Brand                 85              Germany  \n",
       "2         237    Christian Dingert                 85              Germany  \n",
       "3         235       Benjamin Brand                 85              Germany  \n",
       "4         837  Matthias Jöllenbeck                 85              Germany  \n",
       "\n",
       "[5 rows x 44 columns]"
      ]
     },
     "metadata": {},
     "output_type": "display_data"
    }
   ],
   "source": [
    "# Debug: Inspect matches_df\n",
    "print(\"matches_df shape:\", matches_df.shape)\n",
    "display(matches_df.head())"
   ]
  },
  {
   "cell_type": "code",
   "execution_count": 51,
   "id": "48cc3df1",
   "metadata": {},
   "outputs": [
    {
     "name": "stderr",
     "output_type": "stream",
     "text": [
      "/home/codespace/.local/lib/python3.12/site-packages/statsbombpy/api_client.py:21: NoAuthWarning: credentials were not supplied. open data access only\n",
      "  warnings.warn(\n"
     ]
    }
   ],
   "source": [
    "# Step 4: Load All Events for the Team's Matches\n",
    "all_events = [fdm.get_events(match['match_id']) for _, match in matches_df.iterrows()]\n",
    "if not all_events:\n",
    "    raise ValueError(\"No event data found for competition/season/team.\")\n",
    "events = pd.concat(all_events)"
   ]
  },
  {
   "cell_type": "code",
   "execution_count": 52,
   "id": "170e8cd5",
   "metadata": {},
   "outputs": [
    {
     "name": "stdout",
     "output_type": "stream",
     "text": [
      "events shape: (137765, 27)\n",
      "events columns: ['index', 'period', 'timestamp', 'minute', 'second', 'type_id', 'type_name', 'possession', 'possession_team_id', 'possession_team_name', 'play_pattern_id', 'play_pattern_name', 'team_id', 'team_name', 'player_id', 'player_name', 'location', 'duration', 'match_id', 'tactics_formation', 'tactics_lineup', 'tactics_lineup_json', 'pass_end_location', 'pass_outcome', 'shot_end_location', 'shot_outcome', 'shot_statsbomb_xg']\n",
      "<class 'pandas.core.frame.DataFrame'>\n",
      "Index: 137765 entries, 794ec549-5288-4d1a-93e8-0fc6d3968784 to cfb23993-b9e4-41ff-b075-ce80e49bbd8d\n",
      "Data columns (total 27 columns):\n",
      " #   Column                Non-Null Count   Dtype  \n",
      "---  ------                --------------   -----  \n",
      " 0   index                 137765 non-null  int64  \n",
      " 1   period                137765 non-null  int64  \n",
      " 2   timestamp             137765 non-null  object \n",
      " 3   minute                137765 non-null  int64  \n",
      " 4   second                137765 non-null  int64  \n",
      " 5   type_id               137765 non-null  int64  \n",
      " 6   type_name             137765 non-null  object \n",
      " 7   possession            137765 non-null  int64  \n",
      " 8   possession_team_id    137765 non-null  int64  \n",
      " 9   possession_team_name  137765 non-null  object \n",
      " 10  play_pattern_id       137765 non-null  int64  \n",
      " 11  play_pattern_name     137765 non-null  object \n",
      " 12  team_id               137765 non-null  int64  \n",
      " 13  team_name             137765 non-null  object \n",
      " 14  player_id             137257 non-null  float64\n",
      " 15  player_name           137257 non-null  object \n",
      " 16  location              136803 non-null  object \n",
      " 17  duration              99550 non-null   float64\n",
      " 18  match_id              137765 non-null  int64  \n",
      " 19  tactics_formation     195 non-null     float64\n",
      " 20  tactics_lineup        195 non-null     object \n",
      " 21  tactics_lineup_json   195 non-null     object \n",
      " 22  pass_end_location     39214 non-null   object \n",
      " 23  pass_outcome          5882 non-null    object \n",
      " 24  shot_end_location     916 non-null     object \n",
      " 25  shot_outcome          916 non-null     object \n",
      " 26  shot_statsbomb_xg     916 non-null     float64\n",
      "dtypes: float64(4), int64(10), object(13)\n",
      "memory usage: 29.4+ MB\n"
     ]
    },
    {
     "data": {
      "text/plain": [
       "None"
      ]
     },
     "metadata": {},
     "output_type": "display_data"
    }
   ],
   "source": [
    "# Debug: Inspect events DataFrame\n",
    "print(\"events shape:\", events.shape)\n",
    "print(\"events columns:\", events.columns.tolist())\n",
    "display(events.info())"
   ]
  },
  {
   "cell_type": "code",
   "execution_count": 53,
   "id": "36f51db8",
   "metadata": {},
   "outputs": [
    {
     "name": "stdout",
     "output_type": "stream",
     "text": [
      "Team events: 81440 rows\n",
      "Opposition events: 56325 rows\n",
      "Unique opposition teams: 17\n"
     ]
    }
   ],
   "source": [
    "# Step 5: Filter Events for the Team\n",
    "team_events = events[events['team_id'] == team_id]\n",
    "# Step 5: Filter Events for the Team\n",
    "team_events = events[events['team_id'] == team_id]\n",
    "if team_events.empty:\n",
    "    raise ValueError(\"No events found for the specified team.\")\n",
    "\n",
    "# Also filter the opposition events\n",
    "opposition_events = events[events['team_id'] != team_id]\n",
    "if opposition_events.empty:\n",
    "    raise ValueError(\"No opposition events found.\")\n",
    "\n",
    "print(f\"Team events: {team_events.shape[0]} rows\")\n",
    "print(f\"Opposition events: {opposition_events.shape[0]} rows\")\n",
    "\n",
    "opposition_events = opposition_events['team_id'].unique()\n",
    "print(f\"Unique opposition teams: {len(opposition_events)}\")\n"
   ]
  },
  {
   "cell_type": "code",
   "execution_count": 54,
   "id": "4b4844f8",
   "metadata": {},
   "outputs": [
    {
     "name": "stdout",
     "output_type": "stream",
     "text": [
      "team_events shape: (81440, 27)\n"
     ]
    },
    {
     "data": {
      "application/vnd.microsoft.datawrangler.viewer.v0+json": {
       "columns": [
        {
         "name": "id",
         "rawType": "object",
         "type": "string"
        },
        {
         "name": "index",
         "rawType": "int64",
         "type": "integer"
        },
        {
         "name": "period",
         "rawType": "int64",
         "type": "integer"
        },
        {
         "name": "timestamp",
         "rawType": "object",
         "type": "string"
        },
        {
         "name": "minute",
         "rawType": "int64",
         "type": "integer"
        },
        {
         "name": "second",
         "rawType": "int64",
         "type": "integer"
        },
        {
         "name": "type_id",
         "rawType": "int64",
         "type": "integer"
        },
        {
         "name": "type_name",
         "rawType": "object",
         "type": "string"
        },
        {
         "name": "possession",
         "rawType": "int64",
         "type": "integer"
        },
        {
         "name": "possession_team_id",
         "rawType": "int64",
         "type": "integer"
        },
        {
         "name": "possession_team_name",
         "rawType": "object",
         "type": "string"
        },
        {
         "name": "play_pattern_id",
         "rawType": "int64",
         "type": "integer"
        },
        {
         "name": "play_pattern_name",
         "rawType": "object",
         "type": "string"
        },
        {
         "name": "team_id",
         "rawType": "int64",
         "type": "integer"
        },
        {
         "name": "team_name",
         "rawType": "object",
         "type": "string"
        },
        {
         "name": "player_id",
         "rawType": "float64",
         "type": "float"
        },
        {
         "name": "player_name",
         "rawType": "object",
         "type": "unknown"
        },
        {
         "name": "location",
         "rawType": "object",
         "type": "unknown"
        },
        {
         "name": "duration",
         "rawType": "float64",
         "type": "float"
        },
        {
         "name": "match_id",
         "rawType": "int64",
         "type": "integer"
        },
        {
         "name": "tactics_formation",
         "rawType": "float64",
         "type": "float"
        },
        {
         "name": "tactics_lineup",
         "rawType": "object",
         "type": "unknown"
        },
        {
         "name": "tactics_lineup_json",
         "rawType": "object",
         "type": "unknown"
        },
        {
         "name": "pass_end_location",
         "rawType": "object",
         "type": "unknown"
        },
        {
         "name": "pass_outcome",
         "rawType": "object",
         "type": "unknown"
        },
        {
         "name": "shot_end_location",
         "rawType": "object",
         "type": "unknown"
        },
        {
         "name": "shot_outcome",
         "rawType": "object",
         "type": "unknown"
        },
        {
         "name": "shot_statsbomb_xg",
         "rawType": "float64",
         "type": "float"
        }
       ],
       "ref": "a9ef4a41-bd9e-4a96-9062-c5f085ef5a64",
       "rows": [
        [
         "794ec549-5288-4d1a-93e8-0fc6d3968784",
         "1",
         "1",
         "00:00:00.000",
         "0",
         "0",
         "35",
         "Starting XI",
         "1",
         "904",
         "Bayer Leverkusen",
         "1",
         "Regular Play",
         "904",
         "Bayer Leverkusen",
         null,
         null,
         null,
         "0.0",
         "3895302",
         "3421.0",
         "[{'player': {'id': 8667, 'name': 'Lukáš Hrádecký'}, 'position': {'id': 1, 'name': 'Goalkeeper'}, 'jersey_number': 1}, {'player': {'id': 27133, 'name': 'Odilon Kossonou'}, 'position': {'id': 3, 'name': 'Right Center Back'}, 'jersey_number': 6}, {'player': {'id': 8221, 'name': 'Jonathan Tah'}, 'position': {'id': 4, 'name': 'Center Back'}, 'jersey_number': 4}, {'player': {'id': 30606, 'name': 'Edmond Fayçal Tapsoba'}, 'position': {'id': 5, 'name': 'Left Center Back'}, 'jersey_number': 12}, {'player': {'id': 41411, 'name': 'Nathan Tella'}, 'position': {'id': 7, 'name': 'Right Wing Back'}, 'jersey_number': 19}, {'player': {'id': 38004, 'name': 'Piero Martín Hincapié Reyna'}, 'position': {'id': 8, 'name': 'Left Wing Back'}, 'jersey_number': 3}, {'player': {'id': 3500, 'name': 'Granit Xhaka'}, 'position': {'id': 9, 'name': 'Right Defensive Midfield'}, 'jersey_number': 34}, {'player': {'id': 9195, 'name': 'Robert Andrich'}, 'position': {'id': 11, 'name': 'Left Defensive Midfield'}, 'jersey_number': 8}, {'player': {'id': 8804, 'name': 'Jonas Hofmann'}, 'position': {'id': 18, 'name': 'Right Attacking Midfield'}, 'jersey_number': 7}, {'player': {'id': 33401, 'name': 'Amine Adli'}, 'position': {'id': 20, 'name': 'Left Attacking Midfield'}, 'jersey_number': 21}, {'player': {'id': 32289, 'name': 'Victor Okoh Boniface'}, 'position': {'id': 23, 'name': 'Center Forward'}, 'jersey_number': 22}]",
         "[{\"player\": {\"id\": 8667, \"name\": \"Luk\\u00e1\\u0161 Hr\\u00e1deck\\u00fd\"}, \"position\": {\"id\": 1, \"name\": \"Goalkeeper\"}, \"jersey_number\": 1}, {\"player\": {\"id\": 27133, \"name\": \"Odilon Kossonou\"}, \"position\": {\"id\": 3, \"name\": \"Right Center Back\"}, \"jersey_number\": 6}, {\"player\": {\"id\": 8221, \"name\": \"Jonathan Tah\"}, \"position\": {\"id\": 4, \"name\": \"Center Back\"}, \"jersey_number\": 4}, {\"player\": {\"id\": 30606, \"name\": \"Edmond Fay\\u00e7al Tapsoba\"}, \"position\": {\"id\": 5, \"name\": \"Left Center Back\"}, \"jersey_number\": 12}, {\"player\": {\"id\": 41411, \"name\": \"Nathan Tella\"}, \"position\": {\"id\": 7, \"name\": \"Right Wing Back\"}, \"jersey_number\": 19}, {\"player\": {\"id\": 38004, \"name\": \"Piero Mart\\u00edn Hincapi\\u00e9 Reyna\"}, \"position\": {\"id\": 8, \"name\": \"Left Wing Back\"}, \"jersey_number\": 3}, {\"player\": {\"id\": 3500, \"name\": \"Granit Xhaka\"}, \"position\": {\"id\": 9, \"name\": \"Right Defensive Midfield\"}, \"jersey_number\": 34}, {\"player\": {\"id\": 9195, \"name\": \"Robert Andrich\"}, \"position\": {\"id\": 11, \"name\": \"Left Defensive Midfield\"}, \"jersey_number\": 8}, {\"player\": {\"id\": 8804, \"name\": \"Jonas Hofmann\"}, \"position\": {\"id\": 18, \"name\": \"Right Attacking Midfield\"}, \"jersey_number\": 7}, {\"player\": {\"id\": 33401, \"name\": \"Amine Adli\"}, \"position\": {\"id\": 20, \"name\": \"Left Attacking Midfield\"}, \"jersey_number\": 21}, {\"player\": {\"id\": 32289, \"name\": \"Victor Okoh Boniface\"}, \"position\": {\"id\": 23, \"name\": \"Center Forward\"}, \"jersey_number\": 22}]",
         null,
         null,
         null,
         null,
         null
        ],
        [
         "1f956a2b-ece0-475b-8802-e82ed922c307",
         "3",
         "1",
         "00:00:00.000",
         "0",
         "0",
         "18",
         "Half Start",
         "1",
         "904",
         "Bayer Leverkusen",
         "1",
         "Regular Play",
         "904",
         "Bayer Leverkusen",
         null,
         null,
         null,
         "0.0",
         "3895302",
         null,
         null,
         null,
         null,
         null,
         null,
         null,
         null
        ],
        [
         "cfa1f5e1-4e8e-4fc2-bbc8-4df5fdef8283",
         "14",
         "1",
         "00:00:09.637",
         "0",
         "9",
         "17",
         "Pressure",
         "2",
         "176",
         "Werder Bremen",
         "9",
         "From Kick Off",
         "904",
         "Bayer Leverkusen",
         "33401.0",
         "Amine Adli",
         "[85.5, 15.4]",
         "0.709739",
         "3895302",
         null,
         null,
         null,
         null,
         null,
         null,
         null,
         null
        ],
        [
         "a43fa179-91f5-4b22-9f74-7f20af0570e4",
         "19",
         "1",
         "00:00:12.832",
         "0",
         "12",
         "17",
         "Pressure",
         "2",
         "176",
         "Werder Bremen",
         "9",
         "From Kick Off",
         "904",
         "Bayer Leverkusen",
         "30606.0",
         "Edmond Fayçal Tapsoba",
         "[55.6, 14.8]",
         "0.572638",
         "3895302",
         null,
         null,
         null,
         null,
         null,
         null,
         null,
         null
        ],
        [
         "533ffee0-b9fc-4065-a9db-cb729523d926",
         "27",
         "1",
         "00:00:15.552",
         "0",
         "15",
         "17",
         "Pressure",
         "2",
         "176",
         "Werder Bremen",
         "9",
         "From Kick Off",
         "904",
         "Bayer Leverkusen",
         "8221.0",
         "Jonathan Tah",
         "[51.0, 15.8]",
         "0.575431",
         "3895302",
         null,
         null,
         null,
         null,
         null,
         null,
         null,
         null
        ]
       ],
       "shape": {
        "columns": 27,
        "rows": 5
       }
      },
      "text/html": [
       "<div>\n",
       "<style scoped>\n",
       "    .dataframe tbody tr th:only-of-type {\n",
       "        vertical-align: middle;\n",
       "    }\n",
       "\n",
       "    .dataframe tbody tr th {\n",
       "        vertical-align: top;\n",
       "    }\n",
       "\n",
       "    .dataframe thead th {\n",
       "        text-align: right;\n",
       "    }\n",
       "</style>\n",
       "<table border=\"1\" class=\"dataframe\">\n",
       "  <thead>\n",
       "    <tr style=\"text-align: right;\">\n",
       "      <th></th>\n",
       "      <th>index</th>\n",
       "      <th>period</th>\n",
       "      <th>timestamp</th>\n",
       "      <th>minute</th>\n",
       "      <th>second</th>\n",
       "      <th>type_id</th>\n",
       "      <th>type_name</th>\n",
       "      <th>possession</th>\n",
       "      <th>possession_team_id</th>\n",
       "      <th>possession_team_name</th>\n",
       "      <th>...</th>\n",
       "      <th>duration</th>\n",
       "      <th>match_id</th>\n",
       "      <th>tactics_formation</th>\n",
       "      <th>tactics_lineup</th>\n",
       "      <th>tactics_lineup_json</th>\n",
       "      <th>pass_end_location</th>\n",
       "      <th>pass_outcome</th>\n",
       "      <th>shot_end_location</th>\n",
       "      <th>shot_outcome</th>\n",
       "      <th>shot_statsbomb_xg</th>\n",
       "    </tr>\n",
       "    <tr>\n",
       "      <th>id</th>\n",
       "      <th></th>\n",
       "      <th></th>\n",
       "      <th></th>\n",
       "      <th></th>\n",
       "      <th></th>\n",
       "      <th></th>\n",
       "      <th></th>\n",
       "      <th></th>\n",
       "      <th></th>\n",
       "      <th></th>\n",
       "      <th></th>\n",
       "      <th></th>\n",
       "      <th></th>\n",
       "      <th></th>\n",
       "      <th></th>\n",
       "      <th></th>\n",
       "      <th></th>\n",
       "      <th></th>\n",
       "      <th></th>\n",
       "      <th></th>\n",
       "      <th></th>\n",
       "    </tr>\n",
       "  </thead>\n",
       "  <tbody>\n",
       "    <tr>\n",
       "      <th>794ec549-5288-4d1a-93e8-0fc6d3968784</th>\n",
       "      <td>1</td>\n",
       "      <td>1</td>\n",
       "      <td>00:00:00.000</td>\n",
       "      <td>0</td>\n",
       "      <td>0</td>\n",
       "      <td>35</td>\n",
       "      <td>Starting XI</td>\n",
       "      <td>1</td>\n",
       "      <td>904</td>\n",
       "      <td>Bayer Leverkusen</td>\n",
       "      <td>...</td>\n",
       "      <td>0.000000</td>\n",
       "      <td>3895302</td>\n",
       "      <td>3421.0</td>\n",
       "      <td>[{'player': {'id': 8667, 'name': 'Lukáš Hrádec...</td>\n",
       "      <td>[{\"player\": {\"id\": 8667, \"name\": \"Luk\\u00e1\\u0...</td>\n",
       "      <td>NaN</td>\n",
       "      <td>NaN</td>\n",
       "      <td>NaN</td>\n",
       "      <td>NaN</td>\n",
       "      <td>NaN</td>\n",
       "    </tr>\n",
       "    <tr>\n",
       "      <th>1f956a2b-ece0-475b-8802-e82ed922c307</th>\n",
       "      <td>3</td>\n",
       "      <td>1</td>\n",
       "      <td>00:00:00.000</td>\n",
       "      <td>0</td>\n",
       "      <td>0</td>\n",
       "      <td>18</td>\n",
       "      <td>Half Start</td>\n",
       "      <td>1</td>\n",
       "      <td>904</td>\n",
       "      <td>Bayer Leverkusen</td>\n",
       "      <td>...</td>\n",
       "      <td>0.000000</td>\n",
       "      <td>3895302</td>\n",
       "      <td>NaN</td>\n",
       "      <td>None</td>\n",
       "      <td>NaN</td>\n",
       "      <td>NaN</td>\n",
       "      <td>NaN</td>\n",
       "      <td>NaN</td>\n",
       "      <td>NaN</td>\n",
       "      <td>NaN</td>\n",
       "    </tr>\n",
       "    <tr>\n",
       "      <th>cfa1f5e1-4e8e-4fc2-bbc8-4df5fdef8283</th>\n",
       "      <td>14</td>\n",
       "      <td>1</td>\n",
       "      <td>00:00:09.637</td>\n",
       "      <td>0</td>\n",
       "      <td>9</td>\n",
       "      <td>17</td>\n",
       "      <td>Pressure</td>\n",
       "      <td>2</td>\n",
       "      <td>176</td>\n",
       "      <td>Werder Bremen</td>\n",
       "      <td>...</td>\n",
       "      <td>0.709739</td>\n",
       "      <td>3895302</td>\n",
       "      <td>NaN</td>\n",
       "      <td>None</td>\n",
       "      <td>NaN</td>\n",
       "      <td>NaN</td>\n",
       "      <td>NaN</td>\n",
       "      <td>NaN</td>\n",
       "      <td>NaN</td>\n",
       "      <td>NaN</td>\n",
       "    </tr>\n",
       "    <tr>\n",
       "      <th>a43fa179-91f5-4b22-9f74-7f20af0570e4</th>\n",
       "      <td>19</td>\n",
       "      <td>1</td>\n",
       "      <td>00:00:12.832</td>\n",
       "      <td>0</td>\n",
       "      <td>12</td>\n",
       "      <td>17</td>\n",
       "      <td>Pressure</td>\n",
       "      <td>2</td>\n",
       "      <td>176</td>\n",
       "      <td>Werder Bremen</td>\n",
       "      <td>...</td>\n",
       "      <td>0.572638</td>\n",
       "      <td>3895302</td>\n",
       "      <td>NaN</td>\n",
       "      <td>None</td>\n",
       "      <td>NaN</td>\n",
       "      <td>NaN</td>\n",
       "      <td>NaN</td>\n",
       "      <td>NaN</td>\n",
       "      <td>NaN</td>\n",
       "      <td>NaN</td>\n",
       "    </tr>\n",
       "    <tr>\n",
       "      <th>533ffee0-b9fc-4065-a9db-cb729523d926</th>\n",
       "      <td>27</td>\n",
       "      <td>1</td>\n",
       "      <td>00:00:15.552</td>\n",
       "      <td>0</td>\n",
       "      <td>15</td>\n",
       "      <td>17</td>\n",
       "      <td>Pressure</td>\n",
       "      <td>2</td>\n",
       "      <td>176</td>\n",
       "      <td>Werder Bremen</td>\n",
       "      <td>...</td>\n",
       "      <td>0.575431</td>\n",
       "      <td>3895302</td>\n",
       "      <td>NaN</td>\n",
       "      <td>None</td>\n",
       "      <td>NaN</td>\n",
       "      <td>NaN</td>\n",
       "      <td>NaN</td>\n",
       "      <td>NaN</td>\n",
       "      <td>NaN</td>\n",
       "      <td>NaN</td>\n",
       "    </tr>\n",
       "  </tbody>\n",
       "</table>\n",
       "<p>5 rows × 27 columns</p>\n",
       "</div>"
      ],
      "text/plain": [
       "                                      index  period     timestamp  minute  \\\n",
       "id                                                                          \n",
       "794ec549-5288-4d1a-93e8-0fc6d3968784      1       1  00:00:00.000       0   \n",
       "1f956a2b-ece0-475b-8802-e82ed922c307      3       1  00:00:00.000       0   \n",
       "cfa1f5e1-4e8e-4fc2-bbc8-4df5fdef8283     14       1  00:00:09.637       0   \n",
       "a43fa179-91f5-4b22-9f74-7f20af0570e4     19       1  00:00:12.832       0   \n",
       "533ffee0-b9fc-4065-a9db-cb729523d926     27       1  00:00:15.552       0   \n",
       "\n",
       "                                      second  type_id    type_name  \\\n",
       "id                                                                   \n",
       "794ec549-5288-4d1a-93e8-0fc6d3968784       0       35  Starting XI   \n",
       "1f956a2b-ece0-475b-8802-e82ed922c307       0       18   Half Start   \n",
       "cfa1f5e1-4e8e-4fc2-bbc8-4df5fdef8283       9       17     Pressure   \n",
       "a43fa179-91f5-4b22-9f74-7f20af0570e4      12       17     Pressure   \n",
       "533ffee0-b9fc-4065-a9db-cb729523d926      15       17     Pressure   \n",
       "\n",
       "                                      possession  possession_team_id  \\\n",
       "id                                                                     \n",
       "794ec549-5288-4d1a-93e8-0fc6d3968784           1                 904   \n",
       "1f956a2b-ece0-475b-8802-e82ed922c307           1                 904   \n",
       "cfa1f5e1-4e8e-4fc2-bbc8-4df5fdef8283           2                 176   \n",
       "a43fa179-91f5-4b22-9f74-7f20af0570e4           2                 176   \n",
       "533ffee0-b9fc-4065-a9db-cb729523d926           2                 176   \n",
       "\n",
       "                                     possession_team_name  ...  duration  \\\n",
       "id                                                         ...             \n",
       "794ec549-5288-4d1a-93e8-0fc6d3968784     Bayer Leverkusen  ...  0.000000   \n",
       "1f956a2b-ece0-475b-8802-e82ed922c307     Bayer Leverkusen  ...  0.000000   \n",
       "cfa1f5e1-4e8e-4fc2-bbc8-4df5fdef8283        Werder Bremen  ...  0.709739   \n",
       "a43fa179-91f5-4b22-9f74-7f20af0570e4        Werder Bremen  ...  0.572638   \n",
       "533ffee0-b9fc-4065-a9db-cb729523d926        Werder Bremen  ...  0.575431   \n",
       "\n",
       "                                     match_id  tactics_formation  \\\n",
       "id                                                                 \n",
       "794ec549-5288-4d1a-93e8-0fc6d3968784  3895302             3421.0   \n",
       "1f956a2b-ece0-475b-8802-e82ed922c307  3895302                NaN   \n",
       "cfa1f5e1-4e8e-4fc2-bbc8-4df5fdef8283  3895302                NaN   \n",
       "a43fa179-91f5-4b22-9f74-7f20af0570e4  3895302                NaN   \n",
       "533ffee0-b9fc-4065-a9db-cb729523d926  3895302                NaN   \n",
       "\n",
       "                                                                         tactics_lineup  \\\n",
       "id                                                                                        \n",
       "794ec549-5288-4d1a-93e8-0fc6d3968784  [{'player': {'id': 8667, 'name': 'Lukáš Hrádec...   \n",
       "1f956a2b-ece0-475b-8802-e82ed922c307                                               None   \n",
       "cfa1f5e1-4e8e-4fc2-bbc8-4df5fdef8283                                               None   \n",
       "a43fa179-91f5-4b22-9f74-7f20af0570e4                                               None   \n",
       "533ffee0-b9fc-4065-a9db-cb729523d926                                               None   \n",
       "\n",
       "                                                                    tactics_lineup_json  \\\n",
       "id                                                                                        \n",
       "794ec549-5288-4d1a-93e8-0fc6d3968784  [{\"player\": {\"id\": 8667, \"name\": \"Luk\\u00e1\\u0...   \n",
       "1f956a2b-ece0-475b-8802-e82ed922c307                                                NaN   \n",
       "cfa1f5e1-4e8e-4fc2-bbc8-4df5fdef8283                                                NaN   \n",
       "a43fa179-91f5-4b22-9f74-7f20af0570e4                                                NaN   \n",
       "533ffee0-b9fc-4065-a9db-cb729523d926                                                NaN   \n",
       "\n",
       "                                     pass_end_location pass_outcome  \\\n",
       "id                                                                    \n",
       "794ec549-5288-4d1a-93e8-0fc6d3968784               NaN          NaN   \n",
       "1f956a2b-ece0-475b-8802-e82ed922c307               NaN          NaN   \n",
       "cfa1f5e1-4e8e-4fc2-bbc8-4df5fdef8283               NaN          NaN   \n",
       "a43fa179-91f5-4b22-9f74-7f20af0570e4               NaN          NaN   \n",
       "533ffee0-b9fc-4065-a9db-cb729523d926               NaN          NaN   \n",
       "\n",
       "                                      shot_end_location  shot_outcome  \\\n",
       "id                                                                      \n",
       "794ec549-5288-4d1a-93e8-0fc6d3968784                NaN           NaN   \n",
       "1f956a2b-ece0-475b-8802-e82ed922c307                NaN           NaN   \n",
       "cfa1f5e1-4e8e-4fc2-bbc8-4df5fdef8283                NaN           NaN   \n",
       "a43fa179-91f5-4b22-9f74-7f20af0570e4                NaN           NaN   \n",
       "533ffee0-b9fc-4065-a9db-cb729523d926                NaN           NaN   \n",
       "\n",
       "                                      shot_statsbomb_xg  \n",
       "id                                                       \n",
       "794ec549-5288-4d1a-93e8-0fc6d3968784                NaN  \n",
       "1f956a2b-ece0-475b-8802-e82ed922c307                NaN  \n",
       "cfa1f5e1-4e8e-4fc2-bbc8-4df5fdef8283                NaN  \n",
       "a43fa179-91f5-4b22-9f74-7f20af0570e4                NaN  \n",
       "533ffee0-b9fc-4065-a9db-cb729523d926                NaN  \n",
       "\n",
       "[5 rows x 27 columns]"
      ]
     },
     "metadata": {},
     "output_type": "display_data"
    }
   ],
   "source": [
    "# Debug: Inspect team_events DataFrame\n",
    "print(\"team_events shape:\", team_events.shape)\n",
    "display(team_events.head())"
   ]
  },
  {
   "cell_type": "code",
   "execution_count": 61,
   "id": "3d4dec40",
   "metadata": {},
   "outputs": [
    {
     "data": {
      "application/vnd.microsoft.datawrangler.viewer.v0+json": {
       "columns": [
        {
         "name": "index",
         "rawType": "int64",
         "type": "integer"
        },
        {
         "name": "goals_per_game",
         "rawType": "float64",
         "type": "float"
        },
        {
         "name": "xg_per_game",
         "rawType": "float64",
         "type": "float"
        },
        {
         "name": "shots_per_game",
         "rawType": "float64",
         "type": "float"
        },
        {
         "name": "possession",
         "rawType": "float64",
         "type": "float"
        },
        {
         "name": "pass_accuracy",
         "rawType": "float64",
         "type": "float"
        },
        {
         "name": "ppda",
         "rawType": "object",
         "type": "unknown"
        }
       ],
       "ref": "a34fa839-ec0f-45cf-89ca-74b7b36c2806",
       "rows": [
        [
         "0",
         "3.235294117647059",
         "2.9559587344294123",
         "26.941176470588236",
         "98.4126984126984",
         "85.00025501096547",
         null
        ]
       ],
       "shape": {
        "columns": 6,
        "rows": 1
       }
      },
      "text/html": [
       "<div>\n",
       "<style scoped>\n",
       "    .dataframe tbody tr th:only-of-type {\n",
       "        vertical-align: middle;\n",
       "    }\n",
       "\n",
       "    .dataframe tbody tr th {\n",
       "        vertical-align: top;\n",
       "    }\n",
       "\n",
       "    .dataframe thead th {\n",
       "        text-align: right;\n",
       "    }\n",
       "</style>\n",
       "<table border=\"1\" class=\"dataframe\">\n",
       "  <thead>\n",
       "    <tr style=\"text-align: right;\">\n",
       "      <th></th>\n",
       "      <th>goals_per_game</th>\n",
       "      <th>xg_per_game</th>\n",
       "      <th>shots_per_game</th>\n",
       "      <th>possession</th>\n",
       "      <th>pass_accuracy</th>\n",
       "      <th>ppda</th>\n",
       "    </tr>\n",
       "  </thead>\n",
       "  <tbody>\n",
       "    <tr>\n",
       "      <th>0</th>\n",
       "      <td>3.235294</td>\n",
       "      <td>2.955959</td>\n",
       "      <td>26.941176</td>\n",
       "      <td>98.412698</td>\n",
       "      <td>85.000255</td>\n",
       "      <td>None</td>\n",
       "    </tr>\n",
       "  </tbody>\n",
       "</table>\n",
       "</div>"
      ],
      "text/plain": [
       "   goals_per_game  xg_per_game  shots_per_game  possession  pass_accuracy  \\\n",
       "0        3.235294     2.955959       26.941176   98.412698      85.000255   \n",
       "\n",
       "   ppda  \n",
       "0  None  "
      ]
     },
     "execution_count": 61,
     "metadata": {},
     "output_type": "execute_result"
    }
   ],
   "source": [
    "from app.util.metrics.ppda import calculate_ppda as ppda_calculator  # Import the comprehensive PPDA calculator\n",
    "\n",
    "\n",
    "def calculate_ppda(events_df, team, opposition_half_only=True):\n",
    "    \"\"\"Calculate PPDA (Passes Per Defensive Action) for a team.\n",
    "\n",
    "    This is a wrapper around the more comprehensive implementation from ppda.py.\n",
    "\n",
    "    Args:\n",
    "        events_df: DataFrame of match events\n",
    "        team: Team to calculate PPDA for\n",
    "        opposition_half_only: If True, only consider defensive actions in the opposition half\n",
    "        \n",
    "    Returns:\n",
    "        PPDA value\n",
    "    \"\"\"\n",
    "    # Get opposition team\n",
    "    teams = events_df['team_name'].unique()\n",
    "\n",
    "    print(f\"Calculating PPDA for team: {team}, opposition_half_only: {opposition_half_only}\")\n",
    "\n",
    "    print(f\"Teams found in events: {teams}\")\n",
    "    opposition_team = [t for t in teams if t != team][0] if len(teams) > 1 else None\n",
    "    \n",
    "    if not opposition_team:\n",
    "        return float('inf')  # Return infinity if we can't find the opposition team\n",
    "\n",
    "    # Call the comprehensive PPDA calculator\n",
    "    ppda_results = ppda_calculator(events_df, opposition_thirds=opposition_half_only)\n",
    "\n",
    "    # Determine if the team is \"home\" or \"away\" in the PPDA results\n",
    "    # Note: In the comprehensive implementation, the first team is considered \"home\"\n",
    "    is_home = teams[0] == team if len(teams) > 0 else True\n",
    "    team_key = \"home\" if is_home else \"away\"\n",
    "\n",
    "    # Return just the PPDA value for the specified team\n",
    "    return ppda_results[team_key][\"ppda\"]\n",
    "\n",
    "\n",
    "\n",
    "def calculate_team_summary(events, team_id):\n",
    "    matches_played = events['match_id'].nunique()\n",
    "    goals = len(events[(events['type_name'] == 'Shot') & (events['shot_outcome'] == 'Goal')]) / max(1, matches_played)\n",
    "    xg = events['shot_statsbomb_xg'].sum() / max(1, matches_played) if 'shot_statsbomb_xg' in events else 0\n",
    "    shots = len(events[events['type_name'] == 'Shot']) / max(1, matches_played)\n",
    "    passes = events[events['type_name'] == 'Pass']\n",
    "    completed_passes = passes[passes['pass_outcome'].isna()]\n",
    "    pass_accuracy = len(completed_passes) / max(1, len(passes)) * 100 if len(passes) > 0 else 0\n",
    "    possessions = len(events[events['possession_team_id'] == team_id]['possession'].unique())\n",
    "    total_possessions = len(events['possession'].unique())\n",
    "    possession = possessions / max(1, total_possessions) * 100 if total_possessions > 0 else 0\n",
    "    # Calculate PPDA for this team (use all events for the match, but extract the correct team)\n",
    "    try:\n",
    "        ppda_result = calculate_ppda(events)\n",
    "        # Find which key (home/away) matches this team\n",
    "        teams = events['team_name'].dropna().unique()\n",
    "        team_name = None\n",
    "        if hasattr(events, 'team_name') and team_id in events['team_id'].values:\n",
    "            team_name = events[events['team_id'] == team_id]['team_name'].iloc[0]\n",
    "        if team_name is not None and team_name in teams:\n",
    "            if team_name == teams[0]:\n",
    "                ppda_val = ppda_result['home']['ppda']\n",
    "            elif team_name == teams[1]:\n",
    "                ppda_val = ppda_result['away']['ppda']\n",
    "            else:\n",
    "                ppda_val = None\n",
    "        else:\n",
    "            ppda_val = None\n",
    "        if ppda_val is not None and (np.isnan(ppda_val) or np.isinf(ppda_val)):\n",
    "            ppda_val = None\n",
    "    except Exception as e:\n",
    "        ppda_val = None\n",
    "    return {\n",
    "        \"goals_per_game\": goals,\n",
    "        \"xg_per_game\": xg,\n",
    "        \"shots_per_game\": shots,\n",
    "        \"possession\": possession,\n",
    "        \"pass_accuracy\": pass_accuracy,\n",
    "        \"ppda\": ppda_val\n",
    "    }\n",
    "# Calculate summary metrics using the full events DataFrame for correct PPDA calculation\n",
    "summary_metrics = calculate_team_summary(events, team_id)\n",
    "pd.DataFrame([summary_metrics])"
   ]
  },
  {
   "cell_type": "markdown",
   "id": "c2617ae6",
   "metadata": {},
   "source": [
    "**Note:** To ensure PPDA is calculated correctly, we now pass the full events DataFrame (not just team_events) to the summary metrics function. This allows the PPDA calculation to access both team and opposition events as required."
   ]
  },
  {
   "cell_type": "code",
   "execution_count": 56,
   "id": "d048d9f9",
   "metadata": {},
   "outputs": [
    {
     "data": {
      "text/plain": [
       "{'goals_per_game': 3.235294117647059,\n",
       " 'xg_per_game': np.float64(2.9559587344294123),\n",
       " 'shots_per_game': 26.941176470588236,\n",
       " 'possession': 98.4126984126984,\n",
       " 'pass_accuracy': 85.00025501096547,\n",
       " 'ppda': None}"
      ]
     },
     "metadata": {},
     "output_type": "display_data"
    },
    {
     "name": "stdout",
     "output_type": "stream",
     "text": [
      "{\n",
      "  \"goals_per_game\": 3.235294117647059,\n",
      "  \"xg_per_game\": 2.9559587344294123,\n",
      "  \"shots_per_game\": 26.941176470588236,\n",
      "  \"possession\": 98.4126984126984,\n",
      "  \"pass_accuracy\": 85.00025501096547,\n",
      "  \"ppda\": null\n",
      "}\n"
     ]
    }
   ],
   "source": [
    "# Debug: Inspect summary_metrics\n",
    "display(summary_metrics)\n",
    "print(json.dumps(summary_metrics, indent=2))"
   ]
  },
  {
   "cell_type": "code",
   "execution_count": 57,
   "id": "c37ba34e",
   "metadata": {},
   "outputs": [
    {
     "data": {
      "application/vnd.microsoft.datawrangler.viewer.v0+json": {
       "columns": [
        {
         "name": "index",
         "rawType": "object",
         "type": "string"
        },
        {
         "name": "goals_per_game",
         "rawType": "float64",
         "type": "float"
        },
        {
         "name": "xg_per_game",
         "rawType": "float64",
         "type": "float"
        },
        {
         "name": "shots_per_game",
         "rawType": "float64",
         "type": "float"
        },
        {
         "name": "possession",
         "rawType": "float64",
         "type": "float"
        },
        {
         "name": "pass_accuracy",
         "rawType": "float64",
         "type": "float"
        }
       ],
       "ref": "7f9e253e-7e37-4712-a040-5db7751def33",
       "rows": [
        [
         "count",
         "18.0",
         "18.0",
         "18.0",
         "18.0",
         "18.0"
        ],
        [
         "mean",
         "0.8071895424836601",
         "0.8912082956617646",
         "9.156862745098039",
         "72.16549529739567",
         "79.80977209036746"
        ],
        [
         "std",
         "0.7542013555653687",
         "0.5516075151896609",
         "4.031021576238074",
         "7.361591592385941",
         "4.387724877964057"
        ],
        [
         "min",
         "0.0",
         "0.29199181975",
         "4.0",
         "62.42038216560509",
         "72.05438066465257"
        ],
        [
         "25%",
         "0.125",
         "0.5056267475125",
         "6.5",
         "69.36112579281183",
         "77.44767692569972"
        ],
        [
         "50%",
         "0.5",
         "0.7503934597499999",
         "8.5",
         "71.05434076639966",
         "79.82530670112709"
        ],
        [
         "75%",
         "1.375",
         "1.034382843",
         "11.25",
         "73.34101844426624",
         "82.8691996290616"
        ],
        [
         "max",
         "2.5294117647058822",
         "2.1380968227117645",
         "18.323529411764707",
         "98.4126984126984",
         "88.06715063520872"
        ]
       ],
       "shape": {
        "columns": 5,
        "rows": 8
       }
      },
      "text/html": [
       "<div>\n",
       "<style scoped>\n",
       "    .dataframe tbody tr th:only-of-type {\n",
       "        vertical-align: middle;\n",
       "    }\n",
       "\n",
       "    .dataframe tbody tr th {\n",
       "        vertical-align: top;\n",
       "    }\n",
       "\n",
       "    .dataframe thead th {\n",
       "        text-align: right;\n",
       "    }\n",
       "</style>\n",
       "<table border=\"1\" class=\"dataframe\">\n",
       "  <thead>\n",
       "    <tr style=\"text-align: right;\">\n",
       "      <th></th>\n",
       "      <th>goals_per_game</th>\n",
       "      <th>xg_per_game</th>\n",
       "      <th>shots_per_game</th>\n",
       "      <th>possession</th>\n",
       "      <th>pass_accuracy</th>\n",
       "    </tr>\n",
       "  </thead>\n",
       "  <tbody>\n",
       "    <tr>\n",
       "      <th>count</th>\n",
       "      <td>18.000000</td>\n",
       "      <td>18.000000</td>\n",
       "      <td>18.000000</td>\n",
       "      <td>18.000000</td>\n",
       "      <td>18.000000</td>\n",
       "    </tr>\n",
       "    <tr>\n",
       "      <th>mean</th>\n",
       "      <td>0.807190</td>\n",
       "      <td>0.891208</td>\n",
       "      <td>9.156863</td>\n",
       "      <td>72.165495</td>\n",
       "      <td>79.809772</td>\n",
       "    </tr>\n",
       "    <tr>\n",
       "      <th>std</th>\n",
       "      <td>0.754201</td>\n",
       "      <td>0.551608</td>\n",
       "      <td>4.031022</td>\n",
       "      <td>7.361592</td>\n",
       "      <td>4.387725</td>\n",
       "    </tr>\n",
       "    <tr>\n",
       "      <th>min</th>\n",
       "      <td>0.000000</td>\n",
       "      <td>0.291992</td>\n",
       "      <td>4.000000</td>\n",
       "      <td>62.420382</td>\n",
       "      <td>72.054381</td>\n",
       "    </tr>\n",
       "    <tr>\n",
       "      <th>25%</th>\n",
       "      <td>0.125000</td>\n",
       "      <td>0.505627</td>\n",
       "      <td>6.500000</td>\n",
       "      <td>69.361126</td>\n",
       "      <td>77.447677</td>\n",
       "    </tr>\n",
       "    <tr>\n",
       "      <th>50%</th>\n",
       "      <td>0.500000</td>\n",
       "      <td>0.750393</td>\n",
       "      <td>8.500000</td>\n",
       "      <td>71.054341</td>\n",
       "      <td>79.825307</td>\n",
       "    </tr>\n",
       "    <tr>\n",
       "      <th>75%</th>\n",
       "      <td>1.375000</td>\n",
       "      <td>1.034383</td>\n",
       "      <td>11.250000</td>\n",
       "      <td>73.341018</td>\n",
       "      <td>82.869200</td>\n",
       "    </tr>\n",
       "    <tr>\n",
       "      <th>max</th>\n",
       "      <td>2.529412</td>\n",
       "      <td>2.138097</td>\n",
       "      <td>18.323529</td>\n",
       "      <td>98.412698</td>\n",
       "      <td>88.067151</td>\n",
       "    </tr>\n",
       "  </tbody>\n",
       "</table>\n",
       "</div>"
      ],
      "text/plain": [
       "       goals_per_game  xg_per_game  shots_per_game  possession  pass_accuracy\n",
       "count       18.000000    18.000000       18.000000   18.000000      18.000000\n",
       "mean         0.807190     0.891208        9.156863   72.165495      79.809772\n",
       "std          0.754201     0.551608        4.031022    7.361592       4.387725\n",
       "min          0.000000     0.291992        4.000000   62.420382      72.054381\n",
       "25%          0.125000     0.505627        6.500000   69.361126      77.447677\n",
       "50%          0.500000     0.750393        8.500000   71.054341      79.825307\n",
       "75%          1.375000     1.034383       11.250000   73.341018      82.869200\n",
       "max          2.529412     2.138097       18.323529   98.412698      88.067151"
      ]
     },
     "execution_count": 57,
     "metadata": {},
     "output_type": "execute_result"
    }
   ],
   "source": [
    "# Step 7: (Optional) Calculate League Benchmarks for Comparison (now with PPDA)\n",
    "def calculate_league_benchmarks(events):\n",
    "    team_ids = events['team_id'].unique()\n",
    "    benchmarks = {}\n",
    "    for tid in team_ids:\n",
    "        metrics = calculate_team_summary(events[events['team_id'] == tid], tid)\n",
    "        benchmarks[tid] = metrics\n",
    "    return pd.DataFrame.from_dict(benchmarks, orient='index')\n",
    "league_benchmarks = calculate_league_benchmarks(events)\n",
    "league_benchmarks.describe()"
   ]
  },
  {
   "cell_type": "code",
   "execution_count": 58,
   "id": "fe2ea5bc",
   "metadata": {},
   "outputs": [
    {
     "name": "stdout",
     "output_type": "stream",
     "text": [
      "league_benchmarks shape: (18, 6)\n"
     ]
    },
    {
     "data": {
      "application/vnd.microsoft.datawrangler.viewer.v0+json": {
       "columns": [
        {
         "name": "index",
         "rawType": "int64",
         "type": "integer"
        },
        {
         "name": "goals_per_game",
         "rawType": "float64",
         "type": "float"
        },
        {
         "name": "xg_per_game",
         "rawType": "float64",
         "type": "float"
        },
        {
         "name": "shots_per_game",
         "rawType": "float64",
         "type": "float"
        },
        {
         "name": "possession",
         "rawType": "float64",
         "type": "float"
        },
        {
         "name": "pass_accuracy",
         "rawType": "float64",
         "type": "float"
        },
        {
         "name": "ppda",
         "rawType": "object",
         "type": "unknown"
        }
       ],
       "ref": "4b285df0-2c67-4f42-91e5-3f914fdd2562",
       "rows": [
        [
         "904",
         "2.5294117647058822",
         "2.1380968227117645",
         "18.323529411764707",
         "98.4126984126984",
         "88.06715063520872",
         null
        ],
        [
         "176",
         "0.0",
         "0.434839564",
         "4.5",
         "70.96774193548387",
         "82.70321361058602",
         null
        ],
        [
         "190",
         "0.0",
         "0.29199181975",
         "5.5",
         "73.93939393939394",
         "77.2609819121447",
         null
        ],
        [
         "184",
         "0.5",
         "0.813223579",
         "10.5",
         "66.66666666666666",
         "82.9245283018868",
         null
        ],
        [
         "868",
         "0.0",
         "0.300886255",
         "4.5",
         "70.48192771084338",
         "72.05438066465257",
         null
        ]
       ],
       "shape": {
        "columns": 6,
        "rows": 5
       }
      },
      "text/html": [
       "<div>\n",
       "<style scoped>\n",
       "    .dataframe tbody tr th:only-of-type {\n",
       "        vertical-align: middle;\n",
       "    }\n",
       "\n",
       "    .dataframe tbody tr th {\n",
       "        vertical-align: top;\n",
       "    }\n",
       "\n",
       "    .dataframe thead th {\n",
       "        text-align: right;\n",
       "    }\n",
       "</style>\n",
       "<table border=\"1\" class=\"dataframe\">\n",
       "  <thead>\n",
       "    <tr style=\"text-align: right;\">\n",
       "      <th></th>\n",
       "      <th>goals_per_game</th>\n",
       "      <th>xg_per_game</th>\n",
       "      <th>shots_per_game</th>\n",
       "      <th>possession</th>\n",
       "      <th>pass_accuracy</th>\n",
       "      <th>ppda</th>\n",
       "    </tr>\n",
       "  </thead>\n",
       "  <tbody>\n",
       "    <tr>\n",
       "      <th>904</th>\n",
       "      <td>2.529412</td>\n",
       "      <td>2.138097</td>\n",
       "      <td>18.323529</td>\n",
       "      <td>98.412698</td>\n",
       "      <td>88.067151</td>\n",
       "      <td>None</td>\n",
       "    </tr>\n",
       "    <tr>\n",
       "      <th>176</th>\n",
       "      <td>0.000000</td>\n",
       "      <td>0.434840</td>\n",
       "      <td>4.500000</td>\n",
       "      <td>70.967742</td>\n",
       "      <td>82.703214</td>\n",
       "      <td>None</td>\n",
       "    </tr>\n",
       "    <tr>\n",
       "      <th>190</th>\n",
       "      <td>0.000000</td>\n",
       "      <td>0.291992</td>\n",
       "      <td>5.500000</td>\n",
       "      <td>73.939394</td>\n",
       "      <td>77.260982</td>\n",
       "      <td>None</td>\n",
       "    </tr>\n",
       "    <tr>\n",
       "      <th>184</th>\n",
       "      <td>0.500000</td>\n",
       "      <td>0.813224</td>\n",
       "      <td>10.500000</td>\n",
       "      <td>66.666667</td>\n",
       "      <td>82.924528</td>\n",
       "      <td>None</td>\n",
       "    </tr>\n",
       "    <tr>\n",
       "      <th>868</th>\n",
       "      <td>0.000000</td>\n",
       "      <td>0.300886</td>\n",
       "      <td>4.500000</td>\n",
       "      <td>70.481928</td>\n",
       "      <td>72.054381</td>\n",
       "      <td>None</td>\n",
       "    </tr>\n",
       "  </tbody>\n",
       "</table>\n",
       "</div>"
      ],
      "text/plain": [
       "     goals_per_game  xg_per_game  shots_per_game  possession  pass_accuracy  \\\n",
       "904        2.529412     2.138097       18.323529   98.412698      88.067151   \n",
       "176        0.000000     0.434840        4.500000   70.967742      82.703214   \n",
       "190        0.000000     0.291992        5.500000   73.939394      77.260982   \n",
       "184        0.500000     0.813224       10.500000   66.666667      82.924528   \n",
       "868        0.000000     0.300886        4.500000   70.481928      72.054381   \n",
       "\n",
       "     ppda  \n",
       "904  None  \n",
       "176  None  \n",
       "190  None  \n",
       "184  None  \n",
       "868  None  "
      ]
     },
     "metadata": {},
     "output_type": "display_data"
    }
   ],
   "source": [
    "# Debug: Inspect league_benchmarks DataFrame\n",
    "print(\"league_benchmarks shape:\", league_benchmarks.shape)\n",
    "display(league_benchmarks.head())"
   ]
  },
  {
   "cell_type": "code",
   "execution_count": 59,
   "id": "1ac0410a",
   "metadata": {},
   "outputs": [],
   "source": [
    "# Step 8: (Optional) Visualize or Further Analyze the Results\n",
    "# You can use pandas, matplotlib, seaborn, or plotly for visualization here."
   ]
  },
  {
   "cell_type": "code",
   "execution_count": 60,
   "id": "a3cc8065",
   "metadata": {},
   "outputs": [
    {
     "name": "stdout",
     "output_type": "stream",
     "text": [
      "{\n",
      "  \"goals_per_game\": 3.235294117647059,\n",
      "  \"xg_per_game\": 2.9559587344294123,\n",
      "  \"shots_per_game\": 26.941176470588236,\n",
      "  \"possession\": 98.4126984126984,\n",
      "  \"pass_accuracy\": 85.00025501096547,\n",
      "  \"ppda\": null\n",
      "}\n"
     ]
    }
   ],
   "source": [
    "# Step 9: Convert Team Summary Metrics to JSON (now with PPDA)\n",
    "# Ensure all values are JSON serializable (replace inf/nan with None)\n",
    "def safe_jsonify(obj):\n",
    "    def safe_value(val):\n",
    "        if isinstance(val, float) and (np.isnan(val) or np.isinf(val)):\n",
    "            return None\n",
    "        return val\n",
    "    if isinstance(obj, dict):\n",
    "        return {k: safe_value(v) for k, v in obj.items()}\n",
    "    return obj\n",
    "\n",
    "summary_json = json.dumps(safe_jsonify(summary_metrics), indent=2)\n",
    "print(summary_json)"
   ]
  }
 ],
 "metadata": {
  "kernelspec": {
   "display_name": "Python 3",
   "language": "python",
   "name": "python3"
  },
  "language_info": {
   "codemirror_mode": {
    "name": "ipython",
    "version": 3
   },
   "file_extension": ".py",
   "mimetype": "text/x-python",
   "name": "python",
   "nbconvert_exporter": "python",
   "pygments_lexer": "ipython3",
   "version": "3.12.1"
  }
 },
 "nbformat": 4,
 "nbformat_minor": 5
}
