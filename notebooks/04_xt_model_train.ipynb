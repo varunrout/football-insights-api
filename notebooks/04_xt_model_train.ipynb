{
 "cells": [
  {
   "cell_type": "markdown",
   "id": "4117e63e",
   "metadata": {},
   "source": [
    "# xT Model Training with FootballDataManager\n",
    "This notebook demonstrates how to use the FootballDataManager to load event data, train an Expected Threat (xT) model, evaluate its statistics, and save the trained model to disk for use in the API."
   ]
  },
  {
   "cell_type": "code",
   "execution_count": 1,
   "id": "9340e8c8",
   "metadata": {},
   "outputs": [],
   "source": [
    "import sys\n",
    "from pathlib import Path\n",
    "sys.path.append(str(Path.cwd().parent))\n",
    "# Now you can import from the app package"
   ]
  },
  {
   "cell_type": "code",
   "execution_count": 2,
   "id": "88b41bb5",
   "metadata": {},
   "outputs": [],
   "source": [
    "# Import required libraries\n",
    "import pandas as pd\n",
    "import numpy as np\n",
    "from app.util.football_data_manager import FootballDataManager\n",
    "from app.util.metrics.expected_threat import ExpectedThreatModel\n",
    "import pickle\n",
    "from pathlib import Path"
   ]
  },
  {
   "cell_type": "code",
   "execution_count": 3,
   "id": "1a8244cf",
   "metadata": {},
   "outputs": [],
   "source": [
    "# Initialize FootballDataManager\n",
    "fdm = FootballDataManager()"
   ]
  },
  {
   "cell_type": "code",
   "execution_count": 4,
   "id": "56d7a02c",
   "metadata": {},
   "outputs": [
    {
     "name": "stdout",
     "output_type": "stream",
     "text": [
      "Using competition_id=9, season_id=281, name=1. Bundesliga\n"
     ]
    },
    {
     "name": "stderr",
     "output_type": "stream",
     "text": [
      "/home/codespace/.local/lib/python3.12/site-packages/statsbombpy/api_client.py:21: NoAuthWarning: credentials were not supplied. open data access only\n",
      "  warnings.warn(\n"
     ]
    }
   ],
   "source": [
    "# Select a competition and season (example: use the first available with 360 data)\n",
    "comps = fdm.get_competitions(only_with_360=True, exclude_women=True)\n",
    "comp = comps.iloc[0]\n",
    "competition_id = int(comp['competition_id'])\n",
    "season_id = int(comp['season_id'])\n",
    "print(f\"Using competition_id={competition_id}, season_id={season_id}, name={comp['competition_name']}\")"
   ]
  },
  {
   "cell_type": "code",
   "execution_count": 5,
   "id": "3e04a0af",
   "metadata": {},
   "outputs": [
    {
     "name": "stderr",
     "output_type": "stream",
     "text": [
      "/home/codespace/.local/lib/python3.12/site-packages/statsbombpy/api_client.py:21: NoAuthWarning: credentials were not supplied. open data access only\n",
      "  warnings.warn(\n",
      "/home/codespace/.local/lib/python3.12/site-packages/statsbombpy/api_client.py:21: NoAuthWarning: credentials were not supplied. open data access only\n",
      "  warnings.warn(\n",
      "/home/codespace/.local/lib/python3.12/site-packages/statsbombpy/api_client.py:21: NoAuthWarning: credentials were not supplied. open data access only\n",
      "  warnings.warn(\n",
      "/home/codespace/.local/lib/python3.12/site-packages/statsbombpy/api_client.py:21: NoAuthWarning: credentials were not supplied. open data access only\n",
      "  warnings.warn(\n",
      "/home/codespace/.local/lib/python3.12/site-packages/statsbombpy/api_client.py:21: NoAuthWarning: credentials were not supplied. open data access only\n",
      "  warnings.warn(\n",
      "/home/codespace/.local/lib/python3.12/site-packages/statsbombpy/api_client.py:21: NoAuthWarning: credentials were not supplied. open data access only\n",
      "  warnings.warn(\n",
      "/home/codespace/.local/lib/python3.12/site-packages/statsbombpy/api_client.py:21: NoAuthWarning: credentials were not supplied. open data access only\n",
      "  warnings.warn(\n",
      "/home/codespace/.local/lib/python3.12/site-packages/statsbombpy/api_client.py:21: NoAuthWarning: credentials were not supplied. open data access only\n",
      "  warnings.warn(\n",
      "/home/codespace/.local/lib/python3.12/site-packages/statsbombpy/api_client.py:21: NoAuthWarning: credentials were not supplied. open data access only\n",
      "  warnings.warn(\n",
      "/home/codespace/.local/lib/python3.12/site-packages/statsbombpy/api_client.py:21: NoAuthWarning: credentials were not supplied. open data access only\n",
      "  warnings.warn(\n",
      "/home/codespace/.local/lib/python3.12/site-packages/statsbombpy/api_client.py:21: NoAuthWarning: credentials were not supplied. open data access only\n",
      "  warnings.warn(\n",
      "/home/codespace/.local/lib/python3.12/site-packages/statsbombpy/api_client.py:21: NoAuthWarning: credentials were not supplied. open data access only\n",
      "  warnings.warn(\n",
      "/home/codespace/.local/lib/python3.12/site-packages/statsbombpy/api_client.py:21: NoAuthWarning: credentials were not supplied. open data access only\n",
      "  warnings.warn(\n",
      "/home/codespace/.local/lib/python3.12/site-packages/statsbombpy/api_client.py:21: NoAuthWarning: credentials were not supplied. open data access only\n",
      "  warnings.warn(\n",
      "/home/codespace/.local/lib/python3.12/site-packages/statsbombpy/api_client.py:21: NoAuthWarning: credentials were not supplied. open data access only\n",
      "  warnings.warn(\n",
      "/home/codespace/.local/lib/python3.12/site-packages/statsbombpy/api_client.py:21: NoAuthWarning: credentials were not supplied. open data access only\n",
      "  warnings.warn(\n",
      "/home/codespace/.local/lib/python3.12/site-packages/statsbombpy/api_client.py:21: NoAuthWarning: credentials were not supplied. open data access only\n",
      "  warnings.warn(\n",
      "/home/codespace/.local/lib/python3.12/site-packages/statsbombpy/api_client.py:21: NoAuthWarning: credentials were not supplied. open data access only\n",
      "  warnings.warn(\n",
      "/home/codespace/.local/lib/python3.12/site-packages/statsbombpy/api_client.py:21: NoAuthWarning: credentials were not supplied. open data access only\n",
      "  warnings.warn(\n",
      "/home/codespace/.local/lib/python3.12/site-packages/statsbombpy/api_client.py:21: NoAuthWarning: credentials were not supplied. open data access only\n",
      "  warnings.warn(\n",
      "/home/codespace/.local/lib/python3.12/site-packages/statsbombpy/api_client.py:21: NoAuthWarning: credentials were not supplied. open data access only\n",
      "  warnings.warn(\n",
      "/home/codespace/.local/lib/python3.12/site-packages/statsbombpy/api_client.py:21: NoAuthWarning: credentials were not supplied. open data access only\n",
      "  warnings.warn(\n",
      "/home/codespace/.local/lib/python3.12/site-packages/statsbombpy/api_client.py:21: NoAuthWarning: credentials were not supplied. open data access only\n",
      "  warnings.warn(\n",
      "/home/codespace/.local/lib/python3.12/site-packages/statsbombpy/api_client.py:21: NoAuthWarning: credentials were not supplied. open data access only\n",
      "  warnings.warn(\n",
      "/home/codespace/.local/lib/python3.12/site-packages/statsbombpy/api_client.py:21: NoAuthWarning: credentials were not supplied. open data access only\n",
      "  warnings.warn(\n",
      "/home/codespace/.local/lib/python3.12/site-packages/statsbombpy/api_client.py:21: NoAuthWarning: credentials were not supplied. open data access only\n",
      "  warnings.warn(\n",
      "/home/codespace/.local/lib/python3.12/site-packages/statsbombpy/api_client.py:21: NoAuthWarning: credentials were not supplied. open data access only\n",
      "  warnings.warn(\n",
      "/home/codespace/.local/lib/python3.12/site-packages/statsbombpy/api_client.py:21: NoAuthWarning: credentials were not supplied. open data access only\n",
      "  warnings.warn(\n",
      "/home/codespace/.local/lib/python3.12/site-packages/statsbombpy/api_client.py:21: NoAuthWarning: credentials were not supplied. open data access only\n",
      "  warnings.warn(\n",
      "/home/codespace/.local/lib/python3.12/site-packages/statsbombpy/api_client.py:21: NoAuthWarning: credentials were not supplied. open data access only\n",
      "  warnings.warn(\n",
      "/home/codespace/.local/lib/python3.12/site-packages/statsbombpy/api_client.py:21: NoAuthWarning: credentials were not supplied. open data access only\n",
      "  warnings.warn(\n",
      "/home/codespace/.local/lib/python3.12/site-packages/statsbombpy/api_client.py:21: NoAuthWarning: credentials were not supplied. open data access only\n",
      "  warnings.warn(\n",
      "/home/codespace/.local/lib/python3.12/site-packages/statsbombpy/api_client.py:21: NoAuthWarning: credentials were not supplied. open data access only\n",
      "  warnings.warn(\n",
      "/home/codespace/.local/lib/python3.12/site-packages/statsbombpy/api_client.py:21: NoAuthWarning: credentials were not supplied. open data access only\n",
      "  warnings.warn(\n",
      "/home/codespace/.local/lib/python3.12/site-packages/statsbombpy/api_client.py:21: NoAuthWarning: credentials were not supplied. open data access only\n",
      "  warnings.warn(\n",
      "/home/codespace/.local/lib/python3.12/site-packages/statsbombpy/api_client.py:21: NoAuthWarning: credentials were not supplied. open data access only\n",
      "  warnings.warn(\n",
      "/home/codespace/.local/lib/python3.12/site-packages/statsbombpy/api_client.py:21: NoAuthWarning: credentials were not supplied. open data access only\n",
      "  warnings.warn(\n",
      "/home/codespace/.local/lib/python3.12/site-packages/statsbombpy/api_client.py:21: NoAuthWarning: credentials were not supplied. open data access only\n",
      "  warnings.warn(\n",
      "/home/codespace/.local/lib/python3.12/site-packages/statsbombpy/api_client.py:21: NoAuthWarning: credentials were not supplied. open data access only\n",
      "  warnings.warn(\n",
      "/home/codespace/.local/lib/python3.12/site-packages/statsbombpy/api_client.py:21: NoAuthWarning: credentials were not supplied. open data access only\n",
      "  warnings.warn(\n",
      "/home/codespace/.local/lib/python3.12/site-packages/statsbombpy/api_client.py:21: NoAuthWarning: credentials were not supplied. open data access only\n",
      "  warnings.warn(\n",
      "/home/codespace/.local/lib/python3.12/site-packages/statsbombpy/api_client.py:21: NoAuthWarning: credentials were not supplied. open data access only\n",
      "  warnings.warn(\n",
      "/home/codespace/.local/lib/python3.12/site-packages/statsbombpy/api_client.py:21: NoAuthWarning: credentials were not supplied. open data access only\n",
      "  warnings.warn(\n",
      "/home/codespace/.local/lib/python3.12/site-packages/statsbombpy/api_client.py:21: NoAuthWarning: credentials were not supplied. open data access only\n",
      "  warnings.warn(\n",
      "/home/codespace/.local/lib/python3.12/site-packages/statsbombpy/api_client.py:21: NoAuthWarning: credentials were not supplied. open data access only\n",
      "  warnings.warn(\n",
      "/home/codespace/.local/lib/python3.12/site-packages/statsbombpy/api_client.py:21: NoAuthWarning: credentials were not supplied. open data access only\n",
      "  warnings.warn(\n",
      "/home/codespace/.local/lib/python3.12/site-packages/statsbombpy/api_client.py:21: NoAuthWarning: credentials were not supplied. open data access only\n",
      "  warnings.warn(\n",
      "/home/codespace/.local/lib/python3.12/site-packages/statsbombpy/api_client.py:21: NoAuthWarning: credentials were not supplied. open data access only\n",
      "  warnings.warn(\n",
      "/home/codespace/.local/lib/python3.12/site-packages/statsbombpy/api_client.py:21: NoAuthWarning: credentials were not supplied. open data access only\n",
      "  warnings.warn(\n",
      "/home/codespace/.local/lib/python3.12/site-packages/statsbombpy/api_client.py:21: NoAuthWarning: credentials were not supplied. open data access only\n",
      "  warnings.warn(\n",
      "/home/codespace/.local/lib/python3.12/site-packages/statsbombpy/api_client.py:21: NoAuthWarning: credentials were not supplied. open data access only\n",
      "  warnings.warn(\n",
      "/home/codespace/.local/lib/python3.12/site-packages/statsbombpy/api_client.py:21: NoAuthWarning: credentials were not supplied. open data access only\n",
      "  warnings.warn(\n",
      "/home/codespace/.local/lib/python3.12/site-packages/statsbombpy/api_client.py:21: NoAuthWarning: credentials were not supplied. open data access only\n",
      "  warnings.warn(\n",
      "/home/codespace/.local/lib/python3.12/site-packages/statsbombpy/api_client.py:21: NoAuthWarning: credentials were not supplied. open data access only\n",
      "  warnings.warn(\n",
      "/home/codespace/.local/lib/python3.12/site-packages/statsbombpy/api_client.py:21: NoAuthWarning: credentials were not supplied. open data access only\n",
      "  warnings.warn(\n",
      "/home/codespace/.local/lib/python3.12/site-packages/statsbombpy/api_client.py:21: NoAuthWarning: credentials were not supplied. open data access only\n",
      "  warnings.warn(\n",
      "/home/codespace/.local/lib/python3.12/site-packages/statsbombpy/api_client.py:21: NoAuthWarning: credentials were not supplied. open data access only\n",
      "  warnings.warn(\n",
      "/home/codespace/.local/lib/python3.12/site-packages/statsbombpy/api_client.py:21: NoAuthWarning: credentials were not supplied. open data access only\n",
      "  warnings.warn(\n",
      "/home/codespace/.local/lib/python3.12/site-packages/statsbombpy/api_client.py:21: NoAuthWarning: credentials were not supplied. open data access only\n",
      "  warnings.warn(\n",
      "/home/codespace/.local/lib/python3.12/site-packages/statsbombpy/api_client.py:21: NoAuthWarning: credentials were not supplied. open data access only\n",
      "  warnings.warn(\n",
      "/home/codespace/.local/lib/python3.12/site-packages/statsbombpy/api_client.py:21: NoAuthWarning: credentials were not supplied. open data access only\n",
      "  warnings.warn(\n",
      "/home/codespace/.local/lib/python3.12/site-packages/statsbombpy/api_client.py:21: NoAuthWarning: credentials were not supplied. open data access only\n",
      "  warnings.warn(\n",
      "/home/codespace/.local/lib/python3.12/site-packages/statsbombpy/api_client.py:21: NoAuthWarning: credentials were not supplied. open data access only\n",
      "  warnings.warn(\n",
      "/home/codespace/.local/lib/python3.12/site-packages/statsbombpy/api_client.py:21: NoAuthWarning: credentials were not supplied. open data access only\n",
      "  warnings.warn(\n",
      "/home/codespace/.local/lib/python3.12/site-packages/statsbombpy/api_client.py:21: NoAuthWarning: credentials were not supplied. open data access only\n",
      "  warnings.warn(\n",
      "/home/codespace/.local/lib/python3.12/site-packages/statsbombpy/api_client.py:21: NoAuthWarning: credentials were not supplied. open data access only\n",
      "  warnings.warn(\n",
      "/home/codespace/.local/lib/python3.12/site-packages/statsbombpy/api_client.py:21: NoAuthWarning: credentials were not supplied. open data access only\n",
      "  warnings.warn(\n"
     ]
    },
    {
     "name": "stdout",
     "output_type": "stream",
     "text": [
      "Loaded 137765 events from 34 matches.\n"
     ]
    }
   ],
   "source": [
    "# Load all events for the selected competition/season\n",
    "matches = fdm.get_matches(competition_id, season_id)\n",
    "events_list = [fdm.get_events(match['match_id']) for _, match in matches.iterrows()]\n",
    "events = pd.concat(events_list, ignore_index=True)\n",
    "print(f\"Loaded {len(events)} events from {len(matches)} matches.\")"
   ]
  },
  {
   "cell_type": "code",
   "execution_count": 6,
   "id": "1c4e12e9",
   "metadata": {},
   "outputs": [
    {
     "name": "stdout",
     "output_type": "stream",
     "text": [
      "Training on 71583 pass/carry events.\n"
     ]
    }
   ],
   "source": [
    "# Filter to passes and carries for xT training\n",
    "xt_events = events[events['type'].isin(['Pass', 'Carry']) & events['location'].apply(lambda loc: isinstance(loc, list) and len(loc) == 2)]\n",
    "print(f\"Training on {len(xt_events)} pass/carry events.\")"
   ]
  },
  {
   "cell_type": "code",
   "execution_count": 7,
   "id": "a42b1211",
   "metadata": {},
   "outputs": [],
   "source": [
    "# Train the xT model (using default grid size, or adjust as needed)\n",
    "xt_model = ExpectedThreatModel(grid_size=(12, 8))\n",
    "xt_model.initialize()  # This can be replaced with a real training method if available\n",
    "# Optionally, you could implement a fit/train method here if you have one"
   ]
  },
  {
   "cell_type": "code",
   "execution_count": 8,
   "id": "5d810aa7",
   "metadata": {},
   "outputs": [
    {
     "name": "stdout",
     "output_type": "stream",
     "text": [
      "xT grid shape: (12, 8)\n",
      "xT grid min: 0.0027, max: 0.3000, mean: 0.0778\n",
      "Sum of xT grid: 7.4728\n"
     ]
    }
   ],
   "source": [
    "# Evaluate statistics of the xT grid\n",
    "xt_grid = xt_model.xt_grid\n",
    "print(f\"xT grid shape: {xt_grid.shape}\")\n",
    "print(f\"xT grid min: {xt_grid.min():.4f}, max: {xt_grid.max():.4f}, mean: {xt_grid.mean():.4f}\")\n",
    "print(f\"Sum of xT grid: {xt_grid.sum():.4f}\")"
   ]
  },
  {
   "cell_type": "code",
   "execution_count": 9,
   "id": "f29bdda9",
   "metadata": {},
   "outputs": [
    {
     "name": "stdout",
     "output_type": "stream",
     "text": [
      "Average xT for all shots: 0.2243\n",
      "Average xT for goals: 0.2553\n"
     ]
    }
   ],
   "source": [
    "# (Optional) Evaluate accuracy: check if higher xT is associated with more goals\n",
    "# For demonstration, print average xT for shots that resulted in goals vs. all shots\n",
    "shots = events[events['type'] == 'Shot']\n",
    "shots = shots[shots['location'].apply(lambda loc: isinstance(loc, list) and len(loc) == 2)]\n",
    "shots['xt'] = shots['location'].apply(lambda loc: xt_model.get_xt_value(tuple(loc)))\n",
    "goals = shots[shots['shot_outcome'] == 'Goal']\n",
    "print(f\"Average xT for all shots: {shots['xt'].mean():.4f}\")\n",
    "print(f\"Average xT for goals: {goals['xt'].mean():.4f}\")"
   ]
  },
  {
   "cell_type": "code",
   "execution_count": 10,
   "id": "1bfb37fe",
   "metadata": {},
   "outputs": [
    {
     "name": "stdout",
     "output_type": "stream",
     "text": [
      "xT model saved to data_cache/metrics/xt_model.pkl\n"
     ]
    }
   ],
   "source": [
    "# Save the trained xT model to disk for use in the API\n",
    "output_path = Path('data_cache/metrics/xt_model.pkl')\n",
    "output_path.parent.mkdir(parents=True, exist_ok=True)\n",
    "xt_model.save(str(output_path))\n",
    "print(f\"xT model saved to {output_path}\")"
   ]
  }
 ],
 "metadata": {
  "kernelspec": {
   "display_name": "Python 3",
   "language": "python",
   "name": "python3"
  },
  "language_info": {
   "codemirror_mode": {
    "name": "ipython",
    "version": 3
   },
   "file_extension": ".py",
   "mimetype": "text/x-python",
   "name": "python",
   "nbconvert_exporter": "python",
   "pygments_lexer": "ipython3",
   "version": "3.12.1"
  }
 },
 "nbformat": 4,
 "nbformat_minor": 5
}
